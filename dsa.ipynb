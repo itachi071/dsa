{
 "cells": [
  {
   "cell_type": "code",
   "execution_count": null,
   "id": "496cb2e2",
   "metadata": {},
   "outputs": [],
   "source": [
    "# rat in maze\n",
    "def printpathhelper(x,y,maze,n,solution):\n",
    "    if x==n-1 and y==n-1:\n",
    "        solution[x][y]=1\n",
    "        print(solution)\n",
    "        return\n",
    "    if x<0 or y<0 or x>=n or y>=n or maze[x][y]==0 or solution[x][y]==1:\n",
    "        return\n",
    "    solution[x][y]=1\n",
    "    printpathhelper(x+1,y,maze,n,solution)\n",
    "    printpathhelper(x,y+1,maze,n,solution)\n",
    "    printpathhelper(x-1,y,maze,n,solution)\n",
    "    printpathhelper(x,y-1,maze,n,solution)\n",
    "    solution[x][y]=0\n",
    "    return\n",
    "def printpath(maze):\n",
    "    n=len(maze)\n",
    "    solution= [[0 for j in range(n)]for i in range(n)]\n",
    "    printpathhelper(0,0,maze,n,solution)\n",
    "\n",
    "n=int(input())\n",
    "maze=[]\n",
    "for i in range(n):\n",
    "    row = [int(ele) for ele in input.split()]\n",
    "    maze.append(row)\n",
    "    \n",
    "printpath(maze)"
   ]
  },
  {
   "cell_type": "code",
   "execution_count": 6,
   "id": "0de9b2db",
   "metadata": {},
   "outputs": [],
   "source": [
    "# number of subsequence in a string\n",
    "\n",
    "def sbseq(s):\n",
    "    if len(s)==0:\n",
    "        a=[]\n",
    "        a.append('')\n",
    "        return a\n",
    "    \n",
    "    small_output=s[1:]\n",
    "    small_output_value = sbseq(small_output)\n",
    "    \n",
    "    output=[]\n",
    "    for sub in small_output_value:\n",
    "        output.append(sub)\n",
    "        \n",
    "    for sub in small_output_value:\n",
    "        final_value=s[0]+sub\n",
    "        output.append(final_value)\n",
    "    return output"
   ]
  },
  {
   "cell_type": "code",
   "execution_count": 7,
   "id": "982d7399",
   "metadata": {},
   "outputs": [
    {
     "data": {
      "text/plain": [
       "['', 'c', 'b', 'bc', 'a', 'ac', 'ab', 'abc']"
      ]
     },
     "execution_count": 7,
     "metadata": {},
     "output_type": "execute_result"
    }
   ],
   "source": [
    "sbseq('abc')"
   ]
  },
  {
   "cell_type": "code",
   "execution_count": 8,
   "id": "b1200bb8",
   "metadata": {},
   "outputs": [],
   "source": [
    "def pad(x):\n",
    "    if x==2:\n",
    "        return 'abc'\n",
    "    if x==3:\n",
    "        return 'def'"
   ]
  },
  {
   "cell_type": "code",
   "execution_count": 9,
   "id": "3ebf39bc",
   "metadata": {},
   "outputs": [],
   "source": [
    "# keypad combination\n",
    "\n",
    "def keypad(s):\n",
    "    if s==0:\n",
    "        a=[]\n",
    "        a.append('')\n",
    "        return a\n",
    "    small_output = s//10\n",
    "    remain = s%10\n",
    "    \n",
    "    small_keypad = keypad(small_output)\n",
    "    optionforlastdigit=pad(remain)\n",
    "    \n",
    "    \n",
    "    output=[]\n",
    "    \n",
    "    for s in small_keypad:\n",
    "        for r in optionforlastdigit:\n",
    "            final = s+r\n",
    "            output.append(final)\n",
    "    return output\n",
    "    "
   ]
  },
  {
   "cell_type": "code",
   "execution_count": 10,
   "id": "9fa50b87",
   "metadata": {},
   "outputs": [
    {
     "data": {
      "text/plain": [
       "['ad', 'ae', 'af', 'bd', 'be', 'bf', 'cd', 'ce', 'cf']"
      ]
     },
     "execution_count": 10,
     "metadata": {},
     "output_type": "execute_result"
    }
   ],
   "source": [
    "keypad(23)"
   ]
  },
  {
   "cell_type": "code",
   "execution_count": 3,
   "id": "13250c59",
   "metadata": {
    "collapsed": true
   },
   "outputs": [],
   "source": [
    "# binary search using recursion\n",
    "def binarysearch(A,x,si,ei):\n",
    "    if si>ei:\n",
    "        return -1\n",
    "    mid=(si+ei)//2\n",
    "    if A[mid]==x:\n",
    "        return mid\n",
    "    elif A[mid]>x:\n",
    "        return binarysearch(A,x,si,mid-1)\n",
    "    else:\n",
    "        return binarysearch(A,x,mid+1,ei)\n",
    "        \n",
    "    \n",
    "    "
   ]
  },
  {
   "cell_type": "code",
   "execution_count": 4,
   "id": "6d4c361a",
   "metadata": {},
   "outputs": [
    {
     "data": {
      "text/plain": [
       "7"
      ]
     },
     "execution_count": 4,
     "metadata": {},
     "output_type": "execute_result"
    }
   ],
   "source": [
    "binarysearch([1,2,3,4,5,6,9,10,33,44,67],10,0,9)"
   ]
  },
  {
   "cell_type": "code",
   "execution_count": 5,
   "id": "5ef1a241",
   "metadata": {},
   "outputs": [],
   "source": [
    "def merge(a1,a2,a):\n",
    "    i=0\n",
    "    j=0\n",
    "    k=0\n",
    "    while i<len(a1) and j<len(a2):\n",
    "        if a1[i]<a2[j]:\n",
    "            a[k]=a1[i]\n",
    "            k=k+1\n",
    "            i=i+1\n",
    "        else:\n",
    "            a[k]=a2[j]\n",
    "            k=k+1\n",
    "            j=j+1\n",
    "        while i <len(a1):\n",
    "            a[k]=a1[i]\n",
    "            k=k+1\n",
    "            i=i+1\n",
    "            \n",
    "        while j < len(a2):\n",
    "            a[k]=a2[j]\n",
    "            k=k+1\n",
    "            j=j+1\n",
    "            \n",
    "            \n",
    "            "
   ]
  },
  {
   "cell_type": "code",
   "execution_count": 7,
   "id": "d4d30209",
   "metadata": {},
   "outputs": [],
   "source": [
    "# merge sort\n",
    "\n",
    "def mergesort(a):\n",
    "    if len(a)==0 and len(a)==1:\n",
    "        return\n",
    "    mid=len(a)//2\n",
    "    a1=a[0:mid]\n",
    "    a2=a[mid:]\n",
    "    \n",
    "    mergesort(a1)\n",
    "    mergesort(a2)\n",
    "    \n",
    "    merge(a1,a2,a)\n",
    "\n"
   ]
  },
  {
   "cell_type": "code",
   "execution_count": 8,
   "id": "c4808c09",
   "metadata": {},
   "outputs": [],
   "source": [
    "def partition(a,si,ei):\n",
    "    pivot=a[si]\n",
    "    c=0\n",
    "    for i in range(si,ei+1):\n",
    "        if a[i]<pivot:\n",
    "            c=c+1 \n",
    "    a[si+c],a[si]=a[si],a[si +c]\n",
    "    pivot_index = si+c\n",
    "    i=si\n",
    "    j=ei\n",
    "    while i<j:\n",
    "        if a[i]<pivot:\n",
    "            i=i+1\n",
    "        elif a[j] >= pivot:\n",
    "            j=j+1\n",
    "        else:\n",
    "            a[i],a[j]=a[j],a[i]\n",
    "            i=i+1\n",
    "            j=j+1\n",
    "    return pivot_index \n",
    "    \n",
    "         \n",
    "    \n",
    "    "
   ]
  },
  {
   "cell_type": "code",
   "execution_count": 9,
   "id": "b365170c",
   "metadata": {},
   "outputs": [],
   "source": [
    "# quick sort\n",
    "\n",
    "def qs(a,si,ei):\n",
    "    if si>=ei:\n",
    "        return\n",
    "    \n",
    "    pivot_index = partition(a,si,ei)\n",
    "    qs(a,si,pivot_index-1)\n",
    "    qs(a,pivot_index+1,ei)\n",
    "    \n",
    "    "
   ]
  },
  {
   "cell_type": "code",
   "execution_count": null,
   "id": "04f839a7",
   "metadata": {},
   "outputs": [],
   "source": [
    "# Tower of Hanoi\n",
    " \n",
    "    def tower_hanoi(n,a,b,c):\n",
    "        if n==1:\n",
    "            print('move ist disk from ', a, 'to ', c)\n",
    "            return\n",
    "        tower_hanoi(n-1,a,c,b)\n",
    "        print('move', n,'the disk from ', a,'to', c)\n",
    "        tower_hanoi(n-1,b,a,c)\n",
    "        "
   ]
  },
  {
   "cell_type": "code",
   "execution_count": 1,
   "id": "368d4ab8",
   "metadata": {},
   "outputs": [],
   "source": [
    "# linked list"
   ]
  },
  {
   "cell_type": "code",
   "execution_count": 2,
   "id": "b47781b1",
   "metadata": {},
   "outputs": [],
   "source": [
    "class Node:\n",
    "    def __init__(self,data):\n",
    "        self.data=data\n",
    "        self.next=None\n",
    "    \n",
    "a=Node(13)\n",
    "b=Node(15)\n",
    "a.next=b\n"
   ]
  },
  {
   "cell_type": "code",
   "execution_count": 7,
   "id": "99d2922f",
   "metadata": {},
   "outputs": [
    {
     "name": "stdout",
     "output_type": "stream",
     "text": [
      "15\n"
     ]
    }
   ],
   "source": [
    "print(a.next.data)"
   ]
  },
  {
   "cell_type": "code",
   "execution_count": 8,
   "id": "4da9ec86",
   "metadata": {},
   "outputs": [],
   "source": [
    "# how to take linked list input from user O(n2)"
   ]
  },
  {
   "cell_type": "code",
   "execution_count": 1,
   "id": "74d2aa82",
   "metadata": {},
   "outputs": [
    {
     "name": "stdout",
     "output_type": "stream",
     "text": [
      "1 2 3 4 5 -1\n",
      "1->2->3->4->5->None\n"
     ]
    }
   ],
   "source": [
    "class Node:\n",
    "    def __init__(self,data):\n",
    "        self.data=data\n",
    "        self.next=None\n",
    "\n",
    "def printll(head):\n",
    "    while head is not None:\n",
    "        print(str(head.data)+'->',end='')\n",
    "        head=head.next\n",
    "    print(None)\n",
    "    return\n",
    "\n",
    "\n",
    "def takenput():\n",
    "    inputlist= [int(ele) for ele in input().split()]\n",
    "    head=None\n",
    "    for curd in inputlist:\n",
    "        if curd==-1:\n",
    "            break\n",
    "        newnode=Node(curd)\n",
    "        if head is None:\n",
    "            head=newnode\n",
    "        else:\n",
    "            curr=head\n",
    "            while curr.next is not None:\n",
    "                curr = curr.next\n",
    "            curr.next=newnode\n",
    "                \n",
    "    return head\n",
    "\n",
    "head= takenput()\n",
    "printll(head)\n",
    "\n"
   ]
  },
  {
   "cell_type": "code",
   "execution_count": 3,
   "id": "6a475548",
   "metadata": {},
   "outputs": [
    {
     "name": "stdout",
     "output_type": "stream",
     "text": [
      "1 2 3 4 5\n",
      "1->2->3->4->5->None\n",
      "5->4->3->2->1->None\n"
     ]
    }
   ],
   "source": [
    "# here we do this work on time O(n2)\n",
    "def reversell(head):\n",
    "    if head is None or head.next is None:\n",
    "        return head\n",
    "    smallhead=reversell(head.next)\n",
    "    curr_head=smallhead\n",
    "    while curr_head.next is not None:\n",
    "        curr_head=curr_head.next\n",
    "    curr_head.next=head\n",
    "    head.next=None\n",
    "    \n",
    "    return smallhead\n",
    "\n",
    "head1=takenput()\n",
    "printll(head1)\n",
    "head2 =reversell(head1)\n",
    "printll(head2)\n",
    "\n",
    "        "
   ]
  },
  {
   "cell_type": "code",
   "execution_count": 8,
   "id": "0a0d5288",
   "metadata": {},
   "outputs": [
    {
     "name": "stdout",
     "output_type": "stream",
     "text": [
      "1 2 3 4 5 -1\n",
      "1->2->3->4->5->None\n",
      "5->4->3->2->1->None\n"
     ]
    }
   ],
   "source": [
    "def reversell12(head):\n",
    "    if head is None or head.next is None:\n",
    "        return head,head\n",
    "    smallhead,smaaltail=reversell12(head.next)\n",
    "    smaltail.next=head\n",
    "    head.next=None\n",
    "    return smallhead,head\n",
    "\n",
    "head1=takenput()\n",
    "printll(head1)\n",
    "head2,tail2 =reversell12(head1)\n",
    "printll(head2)\n",
    "\n",
    "        "
   ]
  },
  {
   "cell_type": "code",
   "execution_count": 9,
   "id": "2e9c21c3",
   "metadata": {},
   "outputs": [
    {
     "name": "stdout",
     "output_type": "stream",
     "text": [
      "1 2 3 4 5 -1\n",
      "1->2->3->4->5->None\n",
      "5->4->3->2->1->None\n"
     ]
    }
   ],
   "source": [
    "def reversell3(head):\n",
    "    if head is None or head.next is None:\n",
    "        return head\n",
    "    smallhead=reversell3(head.next)\n",
    "    tail=head.next\n",
    "    tail.next=head\n",
    "    head.next=None\n",
    "    return smallhead\n",
    "    \n",
    "    \n",
    "    head.next=None\n",
    "    return smallhead,head\n",
    "\n",
    "head1=takenput()\n",
    "printll(head1)\n",
    "head2,tail2 =reversell12(head1)\n",
    "printll(head2)\n"
   ]
  },
  {
   "cell_type": "code",
   "execution_count": 10,
   "id": "1360ec23",
   "metadata": {},
   "outputs": [],
   "source": [
    "def reverseI(head):\n",
    "    curr=head\n",
    "    prev = None\n",
    "    while curr is not None:\n",
    "        next = curr.next\n",
    "        curr.next=prev\n",
    "        prev=curr\n",
    "        curr=next\n",
    "    return prev\n",
    "        "
   ]
  },
  {
   "cell_type": "code",
   "execution_count": 11,
   "id": "91f4a678",
   "metadata": {},
   "outputs": [],
   "source": [
    "# optimized way to input linked list O(n)"
   ]
  },
  {
   "cell_type": "code",
   "execution_count": 12,
   "id": "75da43f4",
   "metadata": {},
   "outputs": [],
   "source": [
    "        \n",
    "def takenput():\n",
    "    inputlist= [int(ele) for ele in input().split()]\n",
    "    head=None\n",
    "    tail=None\n",
    "    for curd in inputlist:\n",
    "        if curd==-1:\n",
    "            break\n",
    "        newnode=Node(curd)\n",
    "        if head is None:\n",
    "            head=newnode\n",
    "            tail=newnode\n",
    "        else:\n",
    "            tail.next=newnode\n",
    "            tail = newnode\n",
    "            \n",
    "    return head"
   ]
  },
  {
   "cell_type": "code",
   "execution_count": 13,
   "id": "95a677a6",
   "metadata": {},
   "outputs": [],
   "source": [
    "def length(head):\n",
    "    count=0\n",
    "    while head is not None:\n",
    "        count=count+1\n",
    "        head=head.next\n",
    "    return count\n",
    "\n",
    "def insertLL(head,i,data):\n",
    "    if i<0 or i>length(head):\n",
    "        return head\n",
    "    count=0\n",
    "    curr=None\n",
    "    prev=None\n",
    "    while count<i:\n",
    "        \n",
    "        prev=curr\n",
    "        curr=curr.next\n",
    "        count=count+1\n",
    "    \n",
    "    newnode=Node(data)\n",
    "    if prev is not None:\n",
    "        prev.next=newnode\n",
    "    else:\n",
    "        head=newnode\n",
    "    newnode.next=curr\n",
    "    \n",
    "    return head\n",
    "        "
   ]
  },
  {
   "cell_type": "code",
   "execution_count": 14,
   "id": "304cb247",
   "metadata": {},
   "outputs": [],
   "source": [
    "# delete node from linekedlist"
   ]
  },
  {
   "cell_type": "code",
   "execution_count": 15,
   "id": "7fdeff65",
   "metadata": {},
   "outputs": [],
   "source": [
    "# insertion in linked list ujsong recursion"
   ]
  },
  {
   "cell_type": "code",
   "execution_count": null,
   "id": "969c802b",
   "metadata": {},
   "outputs": [],
   "source": [
    "def insertlR(head,i,data):\n",
    "    \n",
    "    if i<0:\n",
    "        return head\n",
    "    \n",
    "    if i==0:\n",
    "        newnode=Node(data)\n",
    "        newnode.next=head\n",
    "        return newnode\n",
    "    \n",
    "    if head is None:\n",
    "        return None\n",
    "    smallhead=insertlR(head.next,i-1,data)\n",
    "    head.next=smallhead\n",
    "    return head\n",
    "    "
   ]
  },
  {
   "cell_type": "code",
   "execution_count": 3,
   "id": "760d2e03",
   "metadata": {},
   "outputs": [
    {
     "name": "stdout",
     "output_type": "stream",
     "text": [
      "7\n",
      "13\n"
     ]
    }
   ],
   "source": [
    "# fibonacci series using dynamic programming\n",
    "def fibb(n):\n",
    "    if n==0 or n==1:\n",
    "        return n\n",
    "    if dp[n-1]==-1:\n",
    "        ans1 = fibb(n-1,dp)\n",
    "        dp[n-1]=ans1\n",
    "    else:\n",
    "        ans1=dp[n-1]\n",
    "        \n",
    "    if dp[n-2]==-1:\n",
    "        ans2 = fibb(n-2,dp)\n",
    "        dp[n-2]=ans2\n",
    "    else:\n",
    "        ans2 = dp[n-2]\n",
    "    myans = ans1+ans2\n",
    "    return myans\n",
    "\n",
    "\n",
    "n=int(input())\n",
    "dp=[-1 for i in range(n+1)]\n",
    "ans=fibb(n)\n",
    "print(ans)"
   ]
  },
  {
   "cell_type": "code",
   "execution_count": 1,
   "id": "b4f804fe",
   "metadata": {},
   "outputs": [],
   "source": [
    "# Dynamic Programming Iteratively"
   ]
  },
  {
   "cell_type": "code",
   "execution_count": 2,
   "id": "404d3336",
   "metadata": {},
   "outputs": [],
   "source": [
    " def fib(n):\n",
    "    dp=[0 for i in range(n+1)]\n",
    "    dp[0]=0\n",
    "    dp[1]=1\n",
    "    i=2\n",
    "    while i<=n:\n",
    "        dp[i]=dp[i-1]+dp[i-2]\n",
    "        i+i+1\n",
    "    return dp[n]"
   ]
  },
  {
   "cell_type": "code",
   "execution_count": 3,
   "id": "36a3602a",
   "metadata": {},
   "outputs": [],
   "source": [
    " # minimum steps using recursion memoization"
   ]
  },
  {
   "cell_type": "code",
   "execution_count": 4,
   "id": "a84c97d8",
   "metadata": {},
   "outputs": [],
   "source": [
    "# only recursion\n",
    "def minstepto1(n):\n",
    "    ans1=sys.maxsize # integer max value\n",
    "    if n==1:\n",
    "        return 0\n",
    "    if n%3==0:\n",
    "        ans1=minstepto1(n//3)\n",
    "    ans2=sys.maxsize\n",
    "    if n%2==0:\n",
    "        ans2=minstepto1(n//2)\n",
    "    ans3=minstepto1(n-1)\n",
    "    return 1+min(ans1,ans2,ans3)\n",
    "\n",
    "    "
   ]
  },
  {
   "cell_type": "code",
   "execution_count": 5,
   "id": "adccc119",
   "metadata": {},
   "outputs": [],
   "source": [
    "# using recursion and memoization"
   ]
  },
  {
   "cell_type": "code",
   "execution_count": 7,
   "id": "9e43fb5f",
   "metadata": {},
   "outputs": [],
   "source": [
    "def minstepto1(n):\n",
    "    dp=[-1 for i in range(n+1)]\n",
    "    ans1=sys.maxsize # integer max value\n",
    "    if n==1:\n",
    "        return 0\n",
    "    if n%3==0:\n",
    "        if dp[n//3]==-1:\n",
    "            ans1=minstepto1(n//3,dp)\n",
    "            dp[n//3]=ans1\n",
    "        else:\n",
    "            ans1=dp[n//3]\n",
    "    ans2=sys.maxsize\n",
    "    if n%2==0:\n",
    "        if dp[n//2]==-1:\n",
    "            ans2=minstepto1(n//2,dp)\n",
    "            dp[n//2]=ans2\n",
    "        else:\n",
    "            ans2=dp[n//2] \n",
    "    if dp[n-1]==-1:       \n",
    "        ans3=minstepto1(n-1)\n",
    "        dp[n-1]=ans3\n",
    "    else:\n",
    "        ans3=dp[n-1]\n",
    "        \n",
    "    return 1+min(ans1,ans2,ans3)\n",
    "\n",
    "\n",
    "\n",
    "    "
   ]
  },
  {
   "cell_type": "code",
   "execution_count": 9,
   "id": "3d74b57f",
   "metadata": {},
   "outputs": [],
   "source": [
    "#min Square to represent N using recursion"
   ]
  },
  {
   "cell_type": "code",
   "execution_count": 11,
   "id": "f9d20674",
   "metadata": {},
   "outputs": [],
   "source": [
    "import math\n",
    "def minSquares(n):\n",
    "    if n==0:\n",
    "        return 0\n",
    "    ans=sys.maxsize\n",
    "    root = int(math.sqrt(n))\n",
    "    for i in range(1+root+1):\n",
    "        currans=1+minSquares(n-(i**2))\n",
    "        ans = min(ans,currans)\n",
    "    return ans\n",
    "     "
   ]
  },
  {
   "cell_type": "code",
   "execution_count": 12,
   "id": "a9f75bb2",
   "metadata": {},
   "outputs": [],
   "source": [
    "# now with memoization"
   ]
  },
  {
   "cell_type": "code",
   "execution_count": 14,
   "id": "ca728642",
   "metadata": {},
   "outputs": [],
   "source": [
    "def ms(n):\n",
    "    dp=[-1 for i in range(n+1)]\n",
    "    if n==0:\n",
    "        return 0\n",
    "    ans=sys.maxsize\n",
    "    root = int(math.sqrt(n))\n",
    "    for i in range(1+root+1):\n",
    "        newcheckvalue=n-(i**2)\n",
    "        if dp[ newcheckvalue]==-1:\n",
    "            smallans=ms(newcheckvalue,dp)\n",
    "            dp[newcheckvalue]=smallans\n",
    "            currans= 1+smallans\n",
    "            \n",
    "        else:\n",
    "            currans=1+dp[newcheckvalue]\n",
    "              \n",
    "        ans = min(ans,currans)\n",
    "    return ans\n",
    "    "
   ]
  },
  {
   "cell_type": "code",
   "execution_count": 15,
   "id": "b037132d",
   "metadata": {},
   "outputs": [],
   "source": [
    "# using Iterative method"
   ]
  },
  {
   "cell_type": "code",
   "execution_count": 16,
   "id": "383503b2",
   "metadata": {},
   "outputs": [],
   "source": [
    "def minsquareI(n):\n",
    "    dp=[-1 for i in range(n+1)]\n",
    "    dp[0]=0\n",
    "    for i in range(1,n+1):\n",
    "        ans= sys.maxsize\n",
    "        root=int(math.sqrt(i))\n",
    "        for j in range(1,root+1):\n",
    "            currans=1+dp[i-(j**2)]\n",
    "            ans=min(ans,currans)\n",
    "        dp[i]=ans\n",
    "    return dp[n]\n",
    "\n",
    "        \n",
    "    "
   ]
  },
  {
   "cell_type": "code",
   "execution_count": 17,
   "id": "de9119b4",
   "metadata": {},
   "outputs": [],
   "source": [
    " # finding Longest Increasing subsequence"
   ]
  },
  {
   "cell_type": "code",
   "execution_count": 18,
   "id": "5249e6b6",
   "metadata": {},
   "outputs": [],
   "source": [
    " def lis(arr,i,n):\n",
    "        \n",
    "        if i==n:\n",
    "            return 0,0\n",
    "        \n",
    "        including_max=1\n",
    "        for j in range(i+1):\n",
    "            if arr[j]>=arr[i]:\n",
    "                further_including_max=lis[arr,j,n][0]\n",
    "                including_maxx = max(including_max,1+further_including_max)\n",
    "        excluding_max = lis(arr,i+1,n)[1]\n",
    "        overallmax = max(including_max,excluding_max)\n",
    "        return including_max,overallmax\n",
    "    \n",
    "            \n",
    "        "
   ]
  },
  {
   "cell_type": "code",
   "execution_count": 19,
   "id": "af2ca38f",
   "metadata": {},
   "outputs": [],
   "source": [
    " # using memoization"
   ]
  },
  {
   "cell_type": "code",
   "execution_count": 22,
   "id": "d6e8b1f1",
   "metadata": {},
   "outputs": [],
   "source": [
    "def lis(arr,i,n,dp):\n",
    "        dp=[-1 for i in range(n+1)]\n",
    "        \n",
    "        if i==n:\n",
    "            return 0,0\n",
    "        \n",
    "        including_max=1\n",
    "        for j in range(i+1):\n",
    "            if arr[j]>=arr[i]:\n",
    "                if dp[j]==-1:\n",
    "                    further_including_max=lis[arr,j,n,dp][0]\n",
    "                else:\n",
    "                    further_including_max=dp[j][0]\n",
    "                including_maxx = max(including_max,1+further_including_max)\n",
    "        if d[i+1]==-1:\n",
    "            ans = lis(arr,i+1,n,dp)[1]\n",
    "            dp[i+1]=ans\n",
    "            excluding_max =ans[1]\n",
    "             \n",
    "        else:\n",
    "            excluding_max = dp[i+1][1]\n",
    "        overallmax = max(including_max,excluding_max)\n",
    "        return including_max,overallmax\n",
    "        "
   ]
  },
  {
   "cell_type": "code",
   "execution_count": 24,
   "id": "3deb4f91",
   "metadata": {},
   "outputs": [],
   "source": [
    "# done problem iteratively\n",
    "def lisi(li,n):\n",
    "    dp=[(0 for j in range(2)) for i in range(n+1)]\n",
    "    for i in range(n-1,-1,-1):\n",
    "        including_max=1\n",
    "        for j in range(i+1,n):\n",
    "            if li[j]>li[i]:\n",
    "                including_max=max(including_max,1+dp[j][0])\n",
    "        dp[i][0]=including_max\n",
    "        excluding_max = dp[i+1][1]\n",
    "\n",
    "        overallmax = max(including_max,excluding_max)\n",
    "        dp[i][1] = overallmax\n",
    "    return dp[0][1]\n",
    "    "
   ]
  },
  {
   "cell_type": "code",
   "execution_count": 25,
   "id": "0e31e911",
   "metadata": {},
   "outputs": [],
   "source": [
    "# Backtracking"
   ]
  },
  {
   "cell_type": "code",
   "execution_count": 26,
   "id": "a7566b24",
   "metadata": {},
   "outputs": [],
   "source": [
    "   # rat MAze Problem"
   ]
  },
  {
   "cell_type": "code",
   "execution_count": 27,
   "id": "460029a4",
   "metadata": {},
   "outputs": [],
   "source": [
    "def  printpathhelper(x,y,maze,n,solution):\n",
    "    if x==n-1 and y==n-1:\n",
    "        solution[x][y]=1\n",
    "        print(solution)\n",
    "        return\n",
    "    if x<0 or y<0 or x>=n or y>=n or maze[x][y]==0 or solutiopn[x][y]==1:\n",
    "        return\n",
    "    solution[x][y]=1\n",
    "    printpathhelper(x+1,y,maze,n,solution)\n",
    "    printpathhelper(x,y+1,maze,n,solution)\n",
    "    printpathhelper(x-1,y,maze,n,solution)\n",
    "    printpathhelper(x,y-1,maze,n,solution)\n",
    "    solution[x][y]=0\n",
    "    return\n",
    "    \n",
    "    \n",
    "def printpath(maze):\n",
    "    n=len(maze)\n",
    "    solution = [[o for j in range(n)] for i in range(n)]\n",
    "    printpathhelper(0,0,maze,n,solution)\n",
    "       "
   ]
  },
  {
   "cell_type": "code",
   "execution_count": 28,
   "id": "8d038aa4",
   "metadata": {},
   "outputs": [],
   "source": [
    "# N - Queen Problen"
   ]
  },
  {
   "cell_type": "code",
   "execution_count": 30,
   "id": "1d7f1703",
   "metadata": {},
   "outputs": [
    {
     "name": "stdout",
     "output_type": "stream",
     "text": [
      "\n",
      "*\n",
      "**\n",
      "***\n",
      "****\n"
     ]
    }
   ],
   "source": [
    "  "
   ]
  },
  {
   "cell_type": "code",
   "execution_count": 2,
   "id": "6b4e1c23",
   "metadata": {},
   "outputs": [],
   "source": [
    "# binary trees\n"
   ]
  },
  {
   "cell_type": "code",
   "execution_count": 1,
   "id": "391e51c2",
   "metadata": {},
   "outputs": [],
   "source": [
    "class Binarytree:\n",
    "    \n",
    "    def __init__(self,data):\n",
    "        self.data=data\n",
    "        self.left=None\n",
    "        self.right=None"
   ]
  },
  {
   "cell_type": "code",
   "execution_count": 4,
   "id": "171bbccd",
   "metadata": {},
   "outputs": [],
   "source": [
    "bt1=Binarytree(1)\n",
    "bt2=Binarytree(2)\n",
    "bt3=Binarytree(3)\n",
    "bt4=Binarytree(4)\n",
    "bt5=Binarytree(5)"
   ]
  },
  {
   "cell_type": "code",
   "execution_count": 5,
   "id": "635fe1f6",
   "metadata": {},
   "outputs": [],
   "source": [
    "bt1.left = bt2\n",
    "bt1.right = bt3\n",
    "bt2.left = bt4\n",
    "bt2.right = bt5"
   ]
  },
  {
   "cell_type": "code",
   "execution_count": 2,
   "id": "cf485774",
   "metadata": {},
   "outputs": [],
   "source": [
    "def printtree(root):\n",
    "    if root == None:\n",
    "        return\n",
    "    print(root.data, end=':')\n",
    "    if root.left != None:\n",
    "        print('L',  root.left.data, end=',')\n",
    "    if root.right !=None:\n",
    "        print('R', root.right.data)\n",
    "    print()\n",
    "    printtree(root.left)\n",
    "    printtree(root.right)"
   ]
  },
  {
   "cell_type": "markdown",
   "id": "4642832b",
   "metadata": {},
   "source": []
  },
  {
   "cell_type": "code",
   "execution_count": 7,
   "id": "5946f3e9",
   "metadata": {},
   "outputs": [
    {
     "name": "stdout",
     "output_type": "stream",
     "text": [
      "1:L 2,R 3\n",
      "\n",
      "2:L 4,R 5\n",
      "\n",
      "4:\n",
      "5:\n",
      "3:\n"
     ]
    }
   ],
   "source": [
    "printtree(bt1)"
   ]
  },
  {
   "cell_type": "code",
   "execution_count": 8,
   "id": "b0a5abe1",
   "metadata": {},
   "outputs": [],
   "source": [
    "# count for no of nodes in binary tree\n",
    "def numnodes(root):\n",
    "    if root==None:\n",
    "        return 0\n",
    "    lefttree=numnodes(root.left)\n",
    "    righttree=numnodes(root.right)\n",
    "    return 1+lefttree+righttree\n"
   ]
  },
  {
   "cell_type": "code",
   "execution_count": 9,
   "id": "d22452ca",
   "metadata": {},
   "outputs": [
    {
     "data": {
      "text/plain": [
       "5"
      ]
     },
     "execution_count": 9,
     "metadata": {},
     "output_type": "execute_result"
    }
   ],
   "source": [
    "numnodes(bt1)"
   ]
  },
  {
   "cell_type": "code",
   "execution_count": 10,
   "id": "ee9ef2e2",
   "metadata": {},
   "outputs": [],
   "source": [
    "# height of tree"
   ]
  },
  {
   "cell_type": "code",
   "execution_count": 11,
   "id": "34f173b3",
   "metadata": {},
   "outputs": [],
   "source": [
    "def numofleafs(root):\n",
    "    if root==None:\n",
    "        return 0\n",
    "    if root.left==None and root.right==None:\n",
    "        return 1\n",
    "    lefttree=numofleafs(root.left)\n",
    "    righttree=numofleafs(root.right)\n",
    "    return lefttree+righttree"
   ]
  },
  {
   "cell_type": "code",
   "execution_count": 12,
   "id": "960c445a",
   "metadata": {},
   "outputs": [
    {
     "name": "stdout",
     "output_type": "stream",
     "text": [
      "3\n"
     ]
    }
   ],
   "source": [
    "print(numofleafs(bt1))"
   ]
  },
  {
   "cell_type": "code",
   "execution_count": 13,
   "id": "d2652c40",
   "metadata": {},
   "outputs": [],
   "source": [
    "# print the kth depth node"
   ]
  },
  {
   "cell_type": "code",
   "execution_count": 14,
   "id": "43bc844d",
   "metadata": {},
   "outputs": [],
   "source": [
    "def printdepthk(root,k,d=0):\n",
    "    if root==None:\n",
    "        return \n",
    "    if k==d:\n",
    "        print(root.data)\n",
    "        return\n",
    "    printdepthk(root.left,k,d+1)\n",
    "    printdepthk(root.right,k,d+1)\n",
    "    "
   ]
  },
  {
   "cell_type": "code",
   "execution_count": 15,
   "id": "154d9cdf",
   "metadata": {},
   "outputs": [
    {
     "name": "stdout",
     "output_type": "stream",
     "text": [
      "4\n",
      "5\n",
      "None\n"
     ]
    }
   ],
   "source": [
    "print(printdepthk(bt1,2))"
   ]
  },
  {
   "cell_type": "code",
   "execution_count": 16,
   "id": "47d858a0",
   "metadata": {},
   "outputs": [],
   "source": [
    "# remove leaf nodes from tree"
   ]
  },
  {
   "cell_type": "code",
   "execution_count": 17,
   "id": "d7591233",
   "metadata": {},
   "outputs": [],
   "source": [
    "def removeleaf(root):\n",
    "    if root==None:\n",
    "        return None\n",
    "    if root.left==None and root.right==None:\n",
    "        return None\n",
    "    root.left=removeleaf(root.left)\n",
    "    root.right=removeleaf(root.right)\n",
    "    return root\n"
   ]
  },
  {
   "cell_type": "code",
   "execution_count": 18,
   "id": "02cbb1ea",
   "metadata": {},
   "outputs": [
    {
     "name": "stdout",
     "output_type": "stream",
     "text": [
      "1:L 2,R 3\n",
      "\n",
      "2:L 4,R 5\n",
      "\n",
      "4:\n",
      "5:\n",
      "3:\n",
      "None\n",
      "1:L 2,\n",
      "2:\n",
      "None\n"
     ]
    }
   ],
   "source": [
    "print(printtree(bt1))\n",
    "removeleaf(bt1)\n",
    "print(printtree(bt1))"
   ]
  },
  {
   "cell_type": "code",
   "execution_count": 19,
   "id": "c886aa04",
   "metadata": {},
   "outputs": [],
   "source": [
    "# check whether the binary tree is balanced or not\n"
   ]
  },
  {
   "cell_type": "code",
   "execution_count": 20,
   "id": "b727fc08",
   "metadata": {},
   "outputs": [],
   "source": [
    "def height(root):\n",
    "    if root == None:\n",
    "        return 0\n",
    "    return 1 + max(height(root.left),height(root.right))\n",
    "    "
   ]
  },
  {
   "cell_type": "code",
   "execution_count": 21,
   "id": "c15902a0",
   "metadata": {},
   "outputs": [],
   "source": [
    "def checkbinary(root):\n",
    "    if root==None: \n",
    "        return True\n",
    "    lt=height(root.left)\n",
    "    rt=height(root.right)\n",
    "    if lt-rt>1 or rt-lt>1:\n",
    "        return False\n",
    "    isleftbalanced = checkbinary(root.left)\n",
    "    isrightbalanced= checkbinary(root.right)\n",
    "    if isleftbalanced and isrightbalanced:\n",
    "        return True\n",
    "    else:\n",
    "        return False"
   ]
  },
  {
   "cell_type": "code",
   "execution_count": 22,
   "id": "e7af6e5a",
   "metadata": {},
   "outputs": [],
   "source": [
    "# improved balance tree check function\n"
   ]
  },
  {
   "cell_type": "code",
   "execution_count": 23,
   "id": "825ac688",
   "metadata": {},
   "outputs": [],
   "source": [
    "def checkbalance2(root):\n",
    "    if root==None:\n",
    "        return 0, True\n",
    "    lt,isleftbalnced=checkbalance2(root.left)\n",
    "    rt,isrightbalanced=checkbalance2(root.right)\n",
    "    h=1+max(lt,rt)\n",
    "    if lt-rt>1 or rt-lt>1:\n",
    "        return h,False\n",
    "    if isleftbalnced and isrightbalanced:\n",
    "        return h, True\n",
    "    else:\n",
    "        return h, False"
   ]
  },
  {
   "cell_type": "code",
   "execution_count": 24,
   "id": "1a4d15eb",
   "metadata": {},
   "outputs": [],
   "source": [
    "# take levelwise tree input"
   ]
  },
  {
   "cell_type": "code",
   "execution_count": 25,
   "id": "d7b1e58e",
   "metadata": {},
   "outputs": [],
   "source": [
    "import queue\n",
    "def takelevelwisetreeinput():\n",
    "    q = queue.Queue()\n",
    "    print('Enter the root')\n",
    "    rootdata = int(input())\n",
    "    if rootdata==-1:\n",
    "        return None\n",
    "    root = Binarytree(rootdata)\n",
    "    q.put(root)\n",
    "    \n",
    "    while not(q.empty()):\n",
    "        current_node=q.get()\n",
    "        print('enter left child', current_node.data)\n",
    "        leftchilddata=int(input())\n",
    "        if leftchilddata != -1:\n",
    "            leftchild=Binarytree(leftchilddata)\n",
    "            current_node.left=leftchild\n",
    "            q.put(leftchild)\n",
    "        \n",
    "        print('enter right child', current_node.data)\n",
    "        rightchilddata=int(input())\n",
    "        if rightchilddata != -1:\n",
    "            rightchild=Binarytree(rightchilddata)\n",
    "            current_node.right=rightchild\n",
    "            q.put(rightchild)\n",
    "    \n",
    "    return root"
   ]
  },
  {
   "cell_type": "code",
   "execution_count": 26,
   "id": "ba71d217",
   "metadata": {},
   "outputs": [],
   "source": [
    "# built a tree using inorder an d preorder list\n"
   ]
  },
  {
   "cell_type": "code",
   "execution_count": 27,
   "id": "0d46c7a6",
   "metadata": {},
   "outputs": [],
   "source": [
    "def bulidtreeprein(pre, inorder):\n",
    "    if len(pre)==0:\n",
    "        return None\n",
    "    rootdata = pre[0]\n",
    "    root = Binarytree(rootdata)\n",
    "    rootindexinorder=-1\n",
    "    for i in range(0,inorder):\n",
    "        if inorder[i]==rootdata:\n",
    "            rootindexinorder = i\n",
    "            break\n",
    "    if rootindexinorder==-1:\n",
    "        return None\n",
    "    leftinorder = inorder[0:rootindexinorder]\n",
    "    rigthinorder =  inorder[rootindexinorder+1:]\n",
    "    \n",
    "    lenleftsubtree=len(leftinorder)\n",
    "    \n",
    "    leftpreorder = pre[1:lenleftsubtree+1]\n",
    "    rightpreorder = pre[lenleftsubtree+1:]\n",
    "    \n",
    "    leftchild = bulidtreeprein(leftpreorder,leftinorder)\n",
    "    rightchild = bulidtreeprein(rightpreorder,rigthinorder)\n",
    "    \n",
    "    root.left=leftchild\n",
    "    root.right=rightchild\n",
    "    return root "
   ]
  },
  {
   "cell_type": "code",
   "execution_count": 28,
   "id": "7b2157bc",
   "metadata": {},
   "outputs": [],
   "source": [
    "# searching in  binary search tree"
   ]
  },
  {
   "cell_type": "code",
   "execution_count": 29,
   "id": "8e60a16c",
   "metadata": {},
   "outputs": [],
   "source": [
    "def search(root,x):\n",
    "    if root==None:\n",
    "        return False\n",
    "    if root.data==x :\n",
    "        return True\n",
    "    elif root.data > x: \n",
    "        return search(root.left,x)\n",
    "    else: \n",
    "        return search(root.right,x)\n",
    "    \n",
    "        "
   ]
  },
  {
   "cell_type": "code",
   "execution_count": 28,
   "id": "f57d3d61",
   "metadata": {},
   "outputs": [
    {
     "name": "stdout",
     "output_type": "stream",
     "text": [
      "Enter the root\n"
     ]
    },
    {
     "ename": "KeyboardInterrupt",
     "evalue": "Interrupted by user",
     "output_type": "error",
     "traceback": [
      "\u001b[1;31m---------------------------------------------------------------------------\u001b[0m",
      "\u001b[1;31mKeyboardInterrupt\u001b[0m                         Traceback (most recent call last)",
      "Input \u001b[1;32mIn [28]\u001b[0m, in \u001b[0;36m<module>\u001b[1;34m\u001b[0m\n\u001b[1;32m----> 1\u001b[0m root1 \u001b[38;5;241m=\u001b[39m \u001b[43mtakelevelwisetreeinput\u001b[49m\u001b[43m(\u001b[49m\u001b[43m)\u001b[49m\n\u001b[0;32m      2\u001b[0m printtree(root1)\n\u001b[0;32m      3\u001b[0m \u001b[38;5;28mprint\u001b[39m(search(root1,\u001b[38;5;241m5\u001b[39m))\n",
      "Input \u001b[1;32mIn [23]\u001b[0m, in \u001b[0;36mtakelevelwisetreeinput\u001b[1;34m()\u001b[0m\n\u001b[0;32m      3\u001b[0m q \u001b[38;5;241m=\u001b[39m queue\u001b[38;5;241m.\u001b[39mQueue()\n\u001b[0;32m      4\u001b[0m \u001b[38;5;28mprint\u001b[39m(\u001b[38;5;124m'\u001b[39m\u001b[38;5;124mEnter the root\u001b[39m\u001b[38;5;124m'\u001b[39m)\n\u001b[1;32m----> 5\u001b[0m rootdata \u001b[38;5;241m=\u001b[39m \u001b[38;5;28mint\u001b[39m(\u001b[38;5;28;43minput\u001b[39;49m\u001b[43m(\u001b[49m\u001b[43m)\u001b[49m)\n\u001b[0;32m      6\u001b[0m \u001b[38;5;28;01mif\u001b[39;00m rootdata\u001b[38;5;241m==\u001b[39m\u001b[38;5;241m-\u001b[39m\u001b[38;5;241m1\u001b[39m:\n\u001b[0;32m      7\u001b[0m     \u001b[38;5;28;01mreturn\u001b[39;00m \u001b[38;5;28;01mNone\u001b[39;00m\n",
      "File \u001b[1;32mf:\\dl1\\venv\\lib\\site-packages\\ipykernel\\kernelbase.py:1062\u001b[0m, in \u001b[0;36mKernel.raw_input\u001b[1;34m(self, prompt)\u001b[0m\n\u001b[0;32m   1058\u001b[0m \u001b[38;5;28;01mif\u001b[39;00m \u001b[38;5;129;01mnot\u001b[39;00m \u001b[38;5;28mself\u001b[39m\u001b[38;5;241m.\u001b[39m_allow_stdin:\n\u001b[0;32m   1059\u001b[0m     \u001b[38;5;28;01mraise\u001b[39;00m StdinNotImplementedError(\n\u001b[0;32m   1060\u001b[0m         \u001b[38;5;124m\"\u001b[39m\u001b[38;5;124mraw_input was called, but this frontend does not support input requests.\u001b[39m\u001b[38;5;124m\"\u001b[39m\n\u001b[0;32m   1061\u001b[0m     )\n\u001b[1;32m-> 1062\u001b[0m \u001b[38;5;28;01mreturn\u001b[39;00m \u001b[38;5;28;43mself\u001b[39;49m\u001b[38;5;241;43m.\u001b[39;49m\u001b[43m_input_request\u001b[49m\u001b[43m(\u001b[49m\n\u001b[0;32m   1063\u001b[0m \u001b[43m    \u001b[49m\u001b[38;5;28;43mstr\u001b[39;49m\u001b[43m(\u001b[49m\u001b[43mprompt\u001b[49m\u001b[43m)\u001b[49m\u001b[43m,\u001b[49m\n\u001b[0;32m   1064\u001b[0m \u001b[43m    \u001b[49m\u001b[38;5;28;43mself\u001b[39;49m\u001b[38;5;241;43m.\u001b[39;49m\u001b[43m_parent_ident\u001b[49m\u001b[43m[\u001b[49m\u001b[38;5;124;43m\"\u001b[39;49m\u001b[38;5;124;43mshell\u001b[39;49m\u001b[38;5;124;43m\"\u001b[39;49m\u001b[43m]\u001b[49m\u001b[43m,\u001b[49m\n\u001b[0;32m   1065\u001b[0m \u001b[43m    \u001b[49m\u001b[38;5;28;43mself\u001b[39;49m\u001b[38;5;241;43m.\u001b[39;49m\u001b[43mget_parent\u001b[49m\u001b[43m(\u001b[49m\u001b[38;5;124;43m\"\u001b[39;49m\u001b[38;5;124;43mshell\u001b[39;49m\u001b[38;5;124;43m\"\u001b[39;49m\u001b[43m)\u001b[49m\u001b[43m,\u001b[49m\n\u001b[0;32m   1066\u001b[0m \u001b[43m    \u001b[49m\u001b[43mpassword\u001b[49m\u001b[38;5;241;43m=\u001b[39;49m\u001b[38;5;28;43;01mFalse\u001b[39;49;00m\u001b[43m,\u001b[49m\n\u001b[0;32m   1067\u001b[0m \u001b[43m\u001b[49m\u001b[43m)\u001b[49m\n",
      "File \u001b[1;32mf:\\dl1\\venv\\lib\\site-packages\\ipykernel\\kernelbase.py:1107\u001b[0m, in \u001b[0;36mKernel._input_request\u001b[1;34m(self, prompt, ident, parent, password)\u001b[0m\n\u001b[0;32m   1104\u001b[0m             \u001b[38;5;28;01mbreak\u001b[39;00m\n\u001b[0;32m   1105\u001b[0m \u001b[38;5;28;01mexcept\u001b[39;00m \u001b[38;5;167;01mKeyboardInterrupt\u001b[39;00m:\n\u001b[0;32m   1106\u001b[0m     \u001b[38;5;66;03m# re-raise KeyboardInterrupt, to truncate traceback\u001b[39;00m\n\u001b[1;32m-> 1107\u001b[0m     \u001b[38;5;28;01mraise\u001b[39;00m \u001b[38;5;167;01mKeyboardInterrupt\u001b[39;00m(\u001b[38;5;124m\"\u001b[39m\u001b[38;5;124mInterrupted by user\u001b[39m\u001b[38;5;124m\"\u001b[39m) \u001b[38;5;28;01mfrom\u001b[39;00m \u001b[38;5;28mNone\u001b[39m\n\u001b[0;32m   1108\u001b[0m \u001b[38;5;28;01mexcept\u001b[39;00m \u001b[38;5;167;01mException\u001b[39;00m:\n\u001b[0;32m   1109\u001b[0m     \u001b[38;5;28mself\u001b[39m\u001b[38;5;241m.\u001b[39mlog\u001b[38;5;241m.\u001b[39mwarning(\u001b[38;5;124m\"\u001b[39m\u001b[38;5;124mInvalid Message:\u001b[39m\u001b[38;5;124m\"\u001b[39m, exc_info\u001b[38;5;241m=\u001b[39m\u001b[38;5;28;01mTrue\u001b[39;00m)\n",
      "\u001b[1;31mKeyboardInterrupt\u001b[0m: Interrupted by user"
     ]
    }
   ],
   "source": [
    "root1 = takelevelwisetreeinput()\n",
    "printtree(root1)\n",
    "print(search(root1,5))"
   ]
  },
  {
   "cell_type": "code",
   "execution_count": 43,
   "id": "4bbda333",
   "metadata": {},
   "outputs": [],
   "source": [
    "def sortedarraytobonarytree(a):\n",
    "    if not a:\n",
    "        return None\n",
    "    x = len(a)//2\n",
    "    root=Binarytree(a[x])\n",
    "    root.left = sortedarraytobonarytree(a[:x])\n",
    "    root.right = sortedarraytobonarytree(a[x+1:])\n",
    "    \n",
    "    return root\n",
    "    \n",
    "    \n",
    "    \n",
    "\n",
    "\n",
    "\n"
   ]
  },
  {
   "cell_type": "code",
   "execution_count": 49,
   "id": "5660abe1",
   "metadata": {},
   "outputs": [
    {
     "name": "stdout",
     "output_type": "stream",
     "text": [
      "4:L 2,R 6\n",
      "\n",
      "2:L 1,R 3\n",
      "\n",
      "1:\n",
      "3:\n",
      "6:L 5,R 7\n",
      "\n",
      "5:\n",
      "7:\n"
     ]
    }
   ],
   "source": [
    "a=[1,2,3,4,5,6,7]\n",
    "root = sortedarraytobonarytree(a)\n",
    "printtree(root)"
   ]
  },
  {
   "cell_type": "code",
   "execution_count": 54,
   "id": "07647ca5",
   "metadata": {},
   "outputs": [],
   "source": [
    "# print path from given node to root\n",
    "def nodetoroot(root,s):\n",
    "    if root==None:\n",
    "        return None\n",
    "    if root.data==s:\n",
    "        l=[]\n",
    "        l.append(root.data)\n",
    "        return l\n",
    "    \n",
    "    lefttree=nodetoroot(root.left,s)\n",
    "    if lefttree != None:\n",
    "        lefttree.append(root.data)\n",
    "        return lefttree\n",
    "    \n",
    "    righttree=nodetoroot(root.right,s)\n",
    "    if righttree != None:\n",
    "        righttree.append(root.data)\n",
    "        return righttree\n",
    "    else:\n",
    "        return None\n",
    "    "
   ]
  },
  {
   "cell_type": "code",
   "execution_count": 55,
   "id": "69715b19",
   "metadata": {},
   "outputs": [
    {
     "name": "stdout",
     "output_type": "stream",
     "text": [
      "Enter the root\n",
      "4\n",
      "enter left child 4\n",
      "2\n",
      "enter right child 4\n",
      "6\n",
      "enter left child 2\n",
      "1\n",
      "enter right child 2\n",
      "3\n",
      "enter left child 6\n",
      "5\n",
      "enter right child 6\n",
      "7\n",
      "enter left child 1\n",
      "-1\n",
      "enter right child 1\n",
      "-1\n",
      "enter left child 3\n",
      "-1\n",
      "enter right child 3\n",
      "-1\n",
      "enter left child 5\n",
      "-1\n",
      "enter right child 5\n",
      "-1\n",
      "enter left child 7\n",
      "-1\n",
      "enter right child 7\n",
      "-1\n"
     ]
    },
    {
     "data": {
      "text/plain": [
       "[5, 6, 4]"
      ]
     },
     "execution_count": 55,
     "metadata": {},
     "output_type": "execute_result"
    }
   ],
   "source": [
    "root =takelevelwisetreeinput()\n",
    "nodetoroot(root,5)\n"
   ]
  },
  {
   "cell_type": "code",
   "execution_count": 1,
   "id": "de754657",
   "metadata": {},
   "outputs": [],
   "source": [
    "# Complete class for Binary Search tree"
   ]
  },
  {
   "cell_type": "code",
   "execution_count": 3,
   "id": "eee4fe1b",
   "metadata": {},
   "outputs": [],
   "source": [
    "class BinarySearcht():\n",
    "    def __init__(self):\n",
    "        self.root=None\n",
    "        self.numnodes=0\n",
    "    \n",
    "    def printtreehelper(self,root):\n",
    "        if root.data==None:\n",
    "            return \n",
    "        print(root.data,':')\n",
    "        if root.left != None:\n",
    "            print('L',root.left.data,',')\n",
    "        if root.right != None:\n",
    "            print('R',root.right.data, end='')\n",
    "        print()\n",
    "        self.printtreehelper(root.left)\n",
    "        self.printtreehelper(root.right)\n",
    "    \n",
    "    def printtree(self):\n",
    "        return self.printtreehelper(self.root)\n",
    "    \n",
    "    def ispresenthelper(self,root,data):\n",
    "        if root.data==None:\n",
    "            return False\n",
    "        if root.data==data:\n",
    "            return True\n",
    "        if root.data>data:\n",
    "            return self.ispresenthelper(root.left,data)\n",
    "        else:\n",
    "            return self.ispresenthelper(root.right,data)\n",
    "        \n",
    "    def ispresent(self,data):\n",
    "        return self.ispresenthelper(self.root,data)\n",
    "    \n",
    "    def inserthelper(self,root,data):\n",
    "        if root==None:\n",
    "            node=Binarytree(data)\n",
    "            return node\n",
    "        if root.data>data:\n",
    "            root.left = self.inserthelper(root.left,data)\n",
    "            return root\n",
    "        else:\n",
    "            root.right = self.inserthelper(root.right,data)\n",
    "            return root\n",
    "        \n",
    "    def insert(self,data):\n",
    "        self.numnodes +=1\n",
    "        self.root = self.inserthelper(self.root,data)\n",
    "        return root\n",
    "    \n",
    "    def min(sef,root):\n",
    "        if root==None:\n",
    "            return 10000\n",
    "        if root.left==None:\n",
    "            return root.data\n",
    "        return self.min(root.left)\n",
    "            \n",
    "    \n",
    "    \n",
    "    def ishelperdelete(self,root,data):\n",
    "        if root==None:\n",
    "            return False,None\n",
    "        \n",
    "        if root.data > data:\n",
    "            deleted, newleftroot = self.ishelperdelete(root.left,data)\n",
    "            root.left = newleftroot\n",
    "            return deleted, root.left\n",
    "        \n",
    "        if root.data < data:\n",
    "            deleted, newrightroot = self.ishelperdelete(root.right,data)\n",
    "            root.left = newleftroot\n",
    "            return deleted, root.left\n",
    "        \n",
    "        if root.left==None and root.right==None:\n",
    "            return True,None\n",
    "        \n",
    "        if root.left ==None:\n",
    "            return True,root.right\n",
    "        \n",
    "        if root.right==None:\n",
    "            return True,root.left\n",
    "        \n",
    "        replacement = min(root.right)\n",
    "        root.data = replacement\n",
    "        deleted, newrightnode=self.ishelperdelete(root.right,replacement)\n",
    "        root.right = newrightnode\n",
    "        return deleted,root\n",
    "    \n",
    "        \n",
    "    def delete(self,data):\n",
    "        deleted, newroot = self.ishelperdelete(self.root,data)\n",
    "        if deleted:\n",
    "            self.numnodes -=1\n",
    "        self.root=newroot\n",
    "        return deleted\n",
    "    \n",
    "    def count(self):\n",
    "        return self.numnodes"
   ]
  },
  {
   "cell_type": "code",
   "execution_count": 1,
   "id": "da47ce9d",
   "metadata": {},
   "outputs": [],
   "source": [
    "#Hashmaps"
   ]
  },
  {
   "cell_type": "code",
   "execution_count": 1,
   "id": "6239189e",
   "metadata": {},
   "outputs": [],
   "source": [
    "class Mapnode:\n",
    "    def __init__(self,key,value):\n",
    "        self.key=key\n",
    "        self.value=value\n",
    "        self.next=None\n",
    "        \n",
    "        \n",
    "class Map:\n",
    "    def __init__(self):\n",
    "        self.bucket_size = 10\n",
    "        self.buckets = [None for i in range(self.bucket_size)]\n",
    "        self.count=0\n",
    "\n",
    "    def size(self):\n",
    "        return self.count()\n",
    "    \n",
    "    def getbucketindex(self,hc):\n",
    "        return (abs(hc)%self.bucket_size)\n",
    "    \n",
    "    def insert(self,key,value):\n",
    "        hc = hash(key)\n",
    "        index = self.getbucketindex(hc)\n",
    "        head=self.buckets[index]\n",
    "        while head is not None:\n",
    "            if head.key==key:\n",
    "                head.value=value\n",
    "                return\n",
    "            head = head.next\n",
    "        newnode=Mapnode(key,value)\n",
    "        newnode.next=head\n",
    "        self.buckets[index]=newnode\n",
    "        self.count+=1\n",
    "        \n",
    "        \n",
    "        \n",
    "    "
   ]
  },
  {
   "cell_type": "code",
   "execution_count": 3,
   "id": "d6f9a8d4",
   "metadata": {},
   "outputs": [],
   "source": [
    "# Priority Queues and heap\n",
    "\n",
    "class Priorityqueuenode:\n",
    "    def __init__(self,value,priority):\n",
    "        self.value=value\n",
    "        self.priority=priority\n",
    "        \n",
    "        \n",
    "class Priorityqueue:\n",
    "    def __init__(self):\n",
    "        self.pq=[]\n",
    "        \n",
    "    def getsize(self):\n",
    "        return len(self.pq)\n",
    "    \n",
    "    def isempty(self):\n",
    "        return len(self.pq)==0\n",
    "\n",
    "    def getmin(self):\n",
    "        if self.isempty is True:\n",
    "            return None\n",
    "        return self.pq[0].value\n",
    "    \n",
    "    def __preculateup(self):\n",
    "        childindex = self.getsize()-1\n",
    "        while childindex>0:\n",
    "            parentindex=(childindex-1)//2\n",
    "            if self.pq[parentindex].priority>self.pq[childindex].priority:\n",
    "                self.pq[parentindex],self.pq[childindex]=self.pq[childindex],self.pq[parentindex]\n",
    "                childindex=parentindex\n",
    "            else:\n",
    "                break\n",
    "        \n",
    "    def insert(self,value,priority):\n",
    "        pqnode=Priorityqueuenode(value,priority)\n",
    "        self.pq.append(pqnode)\n",
    "        self.__preculateup()\n",
    "        \n",
    "        \n",
    "    def __preculatedown(self):\n",
    "        parentindex=0\n",
    "        leftchildindex=2*parentindex+1\n",
    "        rightchildindex=2*parentindex+2\n",
    "        \n",
    "        while leftchildindex<self.getsize():\n",
    "            minindex=parentindex\n",
    "            if self.pq[minindex].priority>self.pq[leftchildindex].priority:\n",
    "                minindex=leftchildindex\n",
    "                if rightchildindex<self.getsize() and self.pq[minindex].priority>self.pq[rightchildindex].priority:\n",
    "                    minindex=rightchildindex\n",
    "                \n",
    "                if minindex==parentindex:\n",
    "                    break\n",
    "                self.pq[parentindex],self.pq[minindex]=self.pq[minindex],self.pq[parentindex]\n",
    "                parentindex=minindex\n",
    "                leftchildindex=2*parentindex+1\n",
    "                rightchildindex=2*parentindex+2\n",
    "                  \n",
    "\n",
    "        \n",
    "        \n",
    "        \n",
    "    def removemin(self,value,priority):\n",
    "        if self.isempty():\n",
    "            return None\n",
    "        ele = self.pq[0].value\n",
    "        self.pq[0]=self.pq[getsize()-1]\n",
    "        self.pq.pop()\n",
    "        self.__preculatedown()\n",
    "        return ele\n",
    "        \n",
    "        "
   ]
  },
  {
   "cell_type": "code",
   "execution_count": 4,
   "id": "335365b4",
   "metadata": {},
   "outputs": [],
   "source": [
    "# huffman Coding\n",
    "\n",
    "#get file from path \n",
    "# get text from the file\n",
    "#make frequency dictionary using text\n",
    "#construct the heap using dictionary\n",
    "# construct the binary tree from heap\n",
    "#construct the codes from binary tree\n",
    "#creates the encoded codes using codes\n",
    "# put the encoded codes into binary\n",
    "# return the binary file as output"
   ]
  },
  {
   "cell_type": "code",
   "execution_count": null,
   "id": "79ea22b8",
   "metadata": {},
   "outputs": [],
   "source": [
    "import heapq\n",
    "\n",
    "class binarytreenode:\n",
    "    def __init__(self,value,priority):\n",
    "        self.value=value\n",
    "        self.priority=priority\n",
    "        self.left=None\n",
    "        self.right=None\n",
    "    \n",
    "    def __it__(self,other):\n",
    "        return self.freq < other.freq\n",
    "    \n",
    "    def __eq__(self,other):\n",
    "        return self.freq == other.freq\n",
    "        \n",
    "class huffman:\n",
    "    def __init__(self,path):\n",
    "        self.path = path\n",
    "        self.__heap=[]\n",
    "        self.__codes={}\n",
    "        \n",
    "    def __make_freq_dictionary(self,text):\n",
    "        d = {}\n",
    "        for char in d:\n",
    "            if char not in d:\n",
    "                d[char]=0\n",
    "            d[char] +=1\n",
    "        return d\n",
    "    \n",
    "    def __build_heap(self,freq_dict):\n",
    "        for key in freq_dict:\n",
    "            freq=freq_dict[key]\n",
    "            binarytree = self.binarytreenode(key,freq)\n",
    "            heapq.heappush(self.__heap,binarytree)\n",
    "            \n",
    "    def __build_tree(self):\n",
    "        while(len(self.__heap)>1):\n",
    "            binarytreenode1 = heapq.heappop(self.__heap)\n",
    "            binarytreenode2 = heapq.heappop(self.__heap)\n",
    "            freq_sum = binarytreenode1.freq+binarytreenode2.freq\n",
    "            newnode = binarytree(None,freq_sum)\n",
    "            newnode.left = binarytreenode1\n",
    "            newnode.right = binarytreenode2\n",
    "            heapq.heappush(self.__heap,newnode)\n",
    "        return newnode\n",
    "    \n",
    "    def __buildcodeshelper(self,root,curr_bits):\n",
    "        if root is None:\n",
    "            return\n",
    "        if root.value is not None:\n",
    "            self.__codes[root.value] = curr_bits\n",
    "            return\n",
    "        self.__buildcodeshelper(self,root.left,curr_bits + '0')\n",
    "        self.__buildcodeshelper(self,root.right,curr_bits + '1')\n",
    "        \n",
    "    def __buildcodes(self):\n",
    "        root=heapq.heappop(__heap)\n",
    "        self.__buildcodeshelper(root,'')\n",
    "        \n",
    "    def __getencoded(self,text):\n",
    "        encoded_txt = ''\n",
    "        for char in text:\n",
    "            encoded_txt += __codes[char]\n",
    "        return encoded_txt\n",
    "        \n",
    "        \n",
    "    def compress(self):\n",
    "        text = 'aakash'\n",
    "        freq_dict =self.__make_freq_dictionary(text)\n",
    "        self.__build_heap(freq_dict)\n",
    "        self.__build_tree()\n",
    "        self.__buildcodes()\n",
    "        encoded_text =self.__getencoded(text)\n",
    "     \n",
    "        "
   ]
  },
  {
   "cell_type": "code",
   "execution_count": 1,
   "id": "c7e256d7",
   "metadata": {},
   "outputs": [],
   "source": [
    "# kth smallest elements usinfg priority queue\n",
    "import heapq\n",
    "def kthsmallest(arr,k):\n",
    "    heap=arr[:k]\n",
    "    heapq._heapify_max(heap)\n",
    "    n=len(arr)\n",
    "    for i in range(k,n):\n",
    "        if heap[0]>arr[i]:\n",
    "            heapq._heapreplace_max(heap,arr[i])\n",
    "    return heap\n"
   ]
  },
  {
   "cell_type": "code",
   "execution_count": null,
   "id": "aa674788",
   "metadata": {},
   "outputs": [],
   "source": []
  }
 ],
 "metadata": {
  "kernelspec": {
   "display_name": "Python 3 (ipykernel)",
   "language": "python",
   "name": "python3"
  },
  "language_info": {
   "codemirror_mode": {
    "name": "ipython",
    "version": 3
   },
   "file_extension": ".py",
   "mimetype": "text/x-python",
   "name": "python",
   "nbconvert_exporter": "python",
   "pygments_lexer": "ipython3",
   "version": "3.10.1"
  }
 },
 "nbformat": 4,
 "nbformat_minor": 5
}
